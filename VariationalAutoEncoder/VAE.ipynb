{
 "cells": [
  {
   "cell_type": "code",
   "execution_count": null,
   "metadata": {},
   "outputs": [],
   "source": [
    "from NN import MNIST\n",
    "raw_train_set, raw_test_set = MNIST.get_data('./data')"
   ]
  },
  {
   "cell_type": "code",
   "execution_count": null,
   "metadata": {},
   "outputs": [],
   "source": [
    "import VariationalAutoEncoder as VAE\n",
    "\n",
    "vae = VAE.Model(\n",
    "    VAE.encoder_model,\n",
    "    VAE.decoder_model, \n",
    "    epochs=5, \n",
    "    reconstruction_alpha=0, \n",
    "    learning_rate=0.01\n",
    ")\n",
    "\n",
    "vae.train(raw_train_set)\n",
    "\n",
    "tester = VAE.Tester(vae, raw_test_set)"
   ]
  }
 ],
 "metadata": {
  "kernelspec": {
   "display_name": "env",
   "language": "python",
   "name": "python3"
  },
  "language_info": {
   "codemirror_mode": {
    "name": "ipython",
    "version": 3
   },
   "file_extension": ".py",
   "mimetype": "text/x-python",
   "name": "python",
   "nbconvert_exporter": "python",
   "pygments_lexer": "ipython3",
   "version": "3.9.7"
  },
  "orig_nbformat": 4
 },
 "nbformat": 4,
 "nbformat_minor": 2
}
