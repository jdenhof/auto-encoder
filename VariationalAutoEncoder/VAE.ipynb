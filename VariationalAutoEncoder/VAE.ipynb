{
 "cells": [
  {
   "cell_type": "code",
   "execution_count": 1,
   "metadata": {},
   "outputs": [],
   "source": [
    "import NN\n",
    "\n",
    "raw_train_set, raw_test_set = NN.MNIST.get_data('./data')"
   ]
  },
  {
   "cell_type": "code",
   "execution_count": 2,
   "metadata": {},
   "outputs": [
    {
     "name": "stdout",
     "output_type": "stream",
     "text": [
      "Loss function not specified: Default - MSE\n",
      "Optimizer not specified: Default - ADAM\n",
      "Reconstruction Alpha not specified: Using Default Annealing\n",
      "Batch size not specified: Default - 32\n",
      "Epoch: 1 Loss: 0.26185271245249586 Avg Loss/Epoch: 0.26185271245249586\n"
     ]
    }
   ],
   "source": [
    "import VariationalAutoEncoder as VAE\n",
    "\n",
    "vae = VAE.Model(\n",
    "    VAE.Encoder(),\n",
    "    VAE.Decoder(),\n",
    "    epochs=10, \n",
    "    learning_rate=0.01\n",
    ")\n",
    "\n",
    "vae.train(raw_train_set)\n"
   ]
  },
  {
   "cell_type": "code",
   "execution_count": null,
   "metadata": {},
   "outputs": [],
   "source": [
    "vae.preview_annealing(10000)"
   ]
  },
  {
   "cell_type": "code",
   "execution_count": null,
   "metadata": {},
   "outputs": [],
   "source": [
    "tester = VAE.Tester(vae, raw_test_set)\n",
    "tester(1, 2)"
   ]
  },
  {
   "cell_type": "code",
   "execution_count": null,
   "metadata": {},
   "outputs": [],
   "source": []
  }
 ],
 "metadata": {
  "kernelspec": {
   "display_name": "env",
   "language": "python",
   "name": "python3"
  },
  "language_info": {
   "codemirror_mode": {
    "name": "ipython",
    "version": 3
   },
   "file_extension": ".py",
   "mimetype": "text/x-python",
   "name": "python",
   "nbconvert_exporter": "python",
   "pygments_lexer": "ipython3",
   "version": "3.9.7"
  },
  "orig_nbformat": 4
 },
 "nbformat": 4,
 "nbformat_minor": 2
}
