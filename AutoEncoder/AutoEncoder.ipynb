{
 "cells": [
  {
   "cell_type": "code",
   "execution_count": 1,
   "id": "f22a38d0",
   "metadata": {},
   "outputs": [],
   "source": [
    "import numpy as np\n",
    "import pandas as pd\n",
    "import matplotlib.pyplot as plt"
   ]
  },
  {
   "cell_type": "code",
   "execution_count": 2,
   "id": "da3de50c",
   "metadata": {},
   "outputs": [],
   "source": [
    "from torchvision import datasets, transforms\n",
    "\n",
    "train_set = datasets.MNIST('./data', train=True, download=True)\n",
    "test_set = datasets.MNIST('./data', train=False, download=True)\n",
    "\n",
    "train_set = train_set.data.numpy()\n",
    "test_set = test_set.data.numpy()\n",
    "\n",
    "train_set = train_set / 255.0\n",
    "test_set = test_set / 255.0\n",
    "\n",
    "train_set = train_set.reshape(-1, 784)\n",
    "test_set = test_set.reshape(-1, 784)"
   ]
  },
  {
   "cell_type": "code",
   "execution_count": 3,
   "id": "57fcc0bd",
   "metadata": {},
   "outputs": [],
   "source": [
    "def preview(image):\n",
    "    plt.imshow(image, cmap='gray') \n",
    "    plt.axis('off') \n",
    "    plt.show()"
   ]
  },
  {
   "cell_type": "code",
   "execution_count": 4,
   "id": "02bf66a2",
   "metadata": {},
   "outputs": [
    {
     "data": {
      "image/png": "[encoded data removed]",
      "text/plain": [
       "<Figure size 640x480 with 1 Axes>"
      ]
     },
     "metadata": {},
     "output_type": "display_data"
    }
   ],
   "source": [
    "input_size = 28*28\n",
    "hidden_size = int(input_size / 2)\n",
    "latent_size = 32\n",
    "preview(test_set[0].reshape(28, 28))\n",
    "np.random.seed(42)"
   ]
  },
  {
   "cell_type": "code",
   "execution_count": 5,
   "id": "a7fdb2e4",
   "metadata": {},
   "outputs": [],
   "source": [
    "def sigmoid(x):\n",
    "    return 1 / (1 + np.exp(-x))\n",
    "\n",
    "def sigmoid_derivative(x):\n",
    "    return sigmoid(x) / (1 - sigmoid(x))\n",
    "\n",
    "def relu(x):\n",
    "    return np.maximum(0, x)\n",
    "\n",
    "def relu_derivative(x):\n",
    "    x[x<=0] = 0\n",
    "    x[x>0] = 1\n",
    "    return x"
   ]
  },
  {
   "cell_type": "code",
   "execution_count": 6,
   "id": "2c00b178",
   "metadata": {},
   "outputs": [],
   "source": [
    "learning_rate = 0.001\n",
    "epochs = 100"
   ]
  },
  {
   "cell_type": "code",
   "execution_count": 7,
   "id": "86c5a3d5",
   "metadata": {},
   "outputs": [
    {
     "name": "stderr",
     "output_type": "stream",
     "text": [
      "/var/folders/4v/przxnqys7mv69gvj61446b2w0000gn/T/ipykernel_91151/4100074866.py:2: RuntimeWarning: overflow encountered in exp\n",
      "  return 1 / (1 + np.exp(-x))\n"
     ]
    },
    {
     "name": "stdout",
     "output_type": "stream",
     "text": [
      "Epoch 0, Loss: 0.026114743160118734\n",
      "Epoch 1, Loss: 0.026115217054040803\n",
      "Epoch 2, Loss: 0.026115238843475372\n",
      "Epoch 3, Loss: 0.026115234940500345\n"
     ]
    },
    {
     "ename": "KeyboardInterrupt",
     "evalue": "",
     "output_type": "error",
     "traceback": [
      "\u001b[0;31m---------------------------------------------------------------------------\u001b[0m",
      "\u001b[0;31mKeyboardInterrupt\u001b[0m                         Traceback (most recent call last)",
      "Cell \u001b[0;32mIn[7], line 26\u001b[0m\n\u001b[1;32m     23\u001b[0m \u001b[38;5;28;01mfor\u001b[39;00m epoch \u001b[38;5;129;01min\u001b[39;00m \u001b[38;5;28mrange\u001b[39m(epochs):\n\u001b[1;32m     24\u001b[0m     \u001b[38;5;28;01mfor\u001b[39;00m y \u001b[38;5;129;01min\u001b[39;00m train_set:\n\u001b[1;32m     25\u001b[0m         \u001b[38;5;66;03m# Forward propagation\u001b[39;00m\n\u001b[0;32m---> 26\u001b[0m         z1, a1, z2, a2, z3, a3, z4, y_pred \u001b[38;5;241m=\u001b[39m \u001b[43mforward\u001b[49m\u001b[43m(\u001b[49m\u001b[43my\u001b[49m\u001b[43m)\u001b[49m\n\u001b[1;32m     28\u001b[0m         loss \u001b[38;5;241m=\u001b[39m np\u001b[38;5;241m.\u001b[39mmean(\u001b[38;5;241m0.5\u001b[39m \u001b[38;5;241m*\u001b[39m np\u001b[38;5;241m.\u001b[39mpower(y \u001b[38;5;241m-\u001b[39m y_pred, \u001b[38;5;241m2\u001b[39m)) \u001b[38;5;66;03m# Mean Square Loss function\u001b[39;00m\n\u001b[1;32m     30\u001b[0m         dz4 \u001b[38;5;241m=\u001b[39m y_pred \u001b[38;5;241m-\u001b[39m y  \u001b[38;5;66;03m# Assuming a4 is the output of your network\u001b[39;00m\n",
      "Cell \u001b[0;32mIn[7], line 15\u001b[0m, in \u001b[0;36mforward\u001b[0;34m(y)\u001b[0m\n\u001b[1;32m     13\u001b[0m z1 \u001b[38;5;241m=\u001b[39m np\u001b[38;5;241m.\u001b[39mdot(y, W1) \u001b[38;5;241m+\u001b[39m b1 \u001b[38;5;66;03m# input_size -> hidden_size\u001b[39;00m\n\u001b[1;32m     14\u001b[0m a1 \u001b[38;5;241m=\u001b[39m sigmoid(z1)\n\u001b[0;32m---> 15\u001b[0m z2 \u001b[38;5;241m=\u001b[39m \u001b[43mnp\u001b[49m\u001b[38;5;241;43m.\u001b[39;49m\u001b[43mdot\u001b[49m\u001b[43m(\u001b[49m\u001b[43ma1\u001b[49m\u001b[43m,\u001b[49m\u001b[43m \u001b[49m\u001b[43mW2\u001b[49m\u001b[43m)\u001b[49m \u001b[38;5;241m+\u001b[39m b2 \u001b[38;5;66;03m# hidden_size -> latent_size\u001b[39;00m\n\u001b[1;32m     16\u001b[0m a2 \u001b[38;5;241m=\u001b[39m relu(z2)\n\u001b[1;32m     17\u001b[0m z3 \u001b[38;5;241m=\u001b[39m np\u001b[38;5;241m.\u001b[39mdot(a2, W3) \u001b[38;5;241m+\u001b[39m b3 \u001b[38;5;66;03m# latent_size -> hidden_size\u001b[39;00m\n",
      "File \u001b[0;32m<__array_function__ internals>:200\u001b[0m, in \u001b[0;36mdot\u001b[0;34m(*args, **kwargs)\u001b[0m\n",
      "\u001b[0;31mKeyboardInterrupt\u001b[0m: "
     ]
    }
   ],
   "source": [
    "# y -> z1 -> z2 -> z3 -> y_pred\n",
    "\n",
    "W1 = np.random.randn(input_size, hidden_size)  # Weights for the hidden layer\n",
    "b1 = np.zeros((1, hidden_size))  # Biases for the hidden layer\n",
    "W2 = np.random.randn(hidden_size, latent_size)  # Weights for the output layer\n",
    "b2 = np.zeros((1, latent_size))\n",
    "W3 = np.random.randn(latent_size, hidden_size)  # Weights for the hidden layer\n",
    "b3 = np.zeros((1, hidden_size))  # Biases for the hidden layer\n",
    "W4 = np.random.randn(hidden_size, input_size)  # Weights for the output layer\n",
    "b4 = np.zeros((1, input_size))\n",
    "\n",
    "def forward(y):\n",
    "    z1 = np.dot(y, W1) + b1 # input_size -> hidden_size\n",
    "    a1 = sigmoid(z1)\n",
    "    z2 = np.dot(a1, W2) + b2 # hidden_size -> latent_size\n",
    "    a2 = relu(z2)\n",
    "    z3 = np.dot(a2, W3) + b3 # latent_size -> hidden_size\n",
    "    a3 = sigmoid(z3)  \n",
    "    z4 = a3.dot(W4) + b4 # hidden_size -> input_size\n",
    "    a4 = relu(z4)\n",
    "    return z1, a1, z2, a2, z3, a3, z4, a4\n",
    "\n",
    "for epoch in range(epochs):\n",
    "    for y in train_set:\n",
    "        # Forward propagation\n",
    "        z1, a1, z2, a2, z3, a3, z4, y_pred = forward(y)\n",
    "    \n",
    "        loss = np.mean(0.5 * np.power(y - y_pred, 2)) # Mean Square Loss function\n",
    "        \n",
    "        dz4 = y_pred - y  # Assuming a4 is the output of your network\n",
    "        dW4 = a3.T.dot(dz4)  # Gradient of loss w.r.t. W4\n",
    "        db4 = np.sum(dz4, axis=0)  # Gradient of loss w.r.t. b4\n",
    "            \n",
    "        dz3 = dz4.dot(W4.T) * a3 * (1 - a3)  # Gradient of loss w.r.t. z3 using sigmoid derivative\n",
    "        dW3 = a2.T.dot(dz3)  # Gradient of loss w.r.t. W3\n",
    "        db3 = np.sum(dz3, axis=0)  # Gradient of loss w.r.t. b3\n",
    "        \n",
    "        dz2 = dz3.dot(W3.T) * (z2 > 0)  # Gradient of loss w.r.t. z2 using ReLU derivative\n",
    "        dW2 = a1.T.dot(dz2)  # Gradient of loss w.r.t. W2\n",
    "        db2 = np.sum(dz2, axis=0)  # Gradient of loss w.r.t. b2\n",
    "        \n",
    "        dz1 = dz2.dot(W2.T) * a1 * (1 - a1)  # Gradient of loss w.r.t. z1 using sigmoid derivative\n",
    "        dW1 = W1.dot(dz1.T)  # Gradient of loss w.r.t. W1\n",
    "        db1 = np.sum(dz1, axis=0)  # Gradient of loss w.r.t. b1\n",
    "        \n",
    "        # Update weights and biases for each layer\n",
    "        W1 = W1 - learning_rate * dW1\n",
    "        b1 = b1 - learning_rate * db1\n",
    "        \n",
    "        W2 = W2 - learning_rate * dW2\n",
    "        b2 = b2 - learning_rate * db2\n",
    "        \n",
    "        W3 = W3 - learning_rate * dW3\n",
    "        b3 = b3 - learning_rate * db3\n",
    "        \n",
    "        W4 = W4 - learning_rate * dW4\n",
    "        b4 = b4 - learning_rate * db4\n",
    "        \n",
    "    print(f\"Epoch {epoch}, Loss: {loss}\")"
   ]
  },
  {
   "cell_type": "code",
   "execution_count": 8,
   "id": "5262f766-63c5-4059-8b13-81b8c9698f35",
   "metadata": {},
   "outputs": [
    {
     "ename": "KeyboardInterrupt",
     "evalue": "",
     "output_type": "error",
     "traceback": [
      "\u001b[0;31m---------------------------------------------------------------------------\u001b[0m",
      "\u001b[0;31mKeyboardInterrupt\u001b[0m                         Traceback (most recent call last)",
      "Cell \u001b[0;32mIn[8], line 87\u001b[0m\n\u001b[1;32m     85\u001b[0m total_loss \u001b[38;5;241m=\u001b[39m \u001b[38;5;241m0\u001b[39m\n\u001b[1;32m     86\u001b[0m \u001b[38;5;28;01mfor\u001b[39;00m y \u001b[38;5;129;01min\u001b[39;00m train_set:\n\u001b[0;32m---> 87\u001b[0m     _, _, _, _, _, _, _, y_pred \u001b[38;5;241m=\u001b[39m \u001b[43mforward\u001b[49m\u001b[43m(\u001b[49m\u001b[43my\u001b[49m\u001b[43m)\u001b[49m\n\u001b[1;32m     88\u001b[0m     loss \u001b[38;5;241m=\u001b[39m np\u001b[38;5;241m.\u001b[39mmean(\u001b[38;5;241m0.5\u001b[39m \u001b[38;5;241m*\u001b[39m np\u001b[38;5;241m.\u001b[39mpower(y \u001b[38;5;241m-\u001b[39m y_pred, \u001b[38;5;241m2\u001b[39m))\n\u001b[1;32m     89\u001b[0m     total_loss \u001b[38;5;241m+\u001b[39m\u001b[38;5;241m=\u001b[39m loss\n",
      "Cell \u001b[0;32mIn[8], line 18\u001b[0m, in \u001b[0;36mforward\u001b[0;34m(y)\u001b[0m\n\u001b[1;32m     17\u001b[0m \u001b[38;5;28;01mdef\u001b[39;00m \u001b[38;5;21mforward\u001b[39m(y):\n\u001b[0;32m---> 18\u001b[0m     z1 \u001b[38;5;241m=\u001b[39m \u001b[43mnp\u001b[49m\u001b[38;5;241;43m.\u001b[39;49m\u001b[43mdot\u001b[49m\u001b[43m(\u001b[49m\u001b[43my\u001b[49m\u001b[43m,\u001b[49m\u001b[43m \u001b[49m\u001b[43mW1\u001b[49m\u001b[43m)\u001b[49m \u001b[38;5;241m+\u001b[39m b1 \u001b[38;5;66;03m# input_size -> hidden_size\u001b[39;00m\n\u001b[1;32m     19\u001b[0m     a1 \u001b[38;5;241m=\u001b[39m sigmoid(z1)\n\u001b[1;32m     20\u001b[0m     z2 \u001b[38;5;241m=\u001b[39m np\u001b[38;5;241m.\u001b[39mdot(a1, W2) \u001b[38;5;241m+\u001b[39m b2 \u001b[38;5;66;03m# hidden_size -> latent_size\u001b[39;00m\n",
      "File \u001b[0;32m<__array_function__ internals>:200\u001b[0m, in \u001b[0;36mdot\u001b[0;34m(*args, **kwargs)\u001b[0m\n",
      "\u001b[0;31mKeyboardInterrupt\u001b[0m: "
     ]
    }
   ],
   "source": [
    "# Define the batch size (number of samples in each mini-batch)\n",
    "batch_size = 32  # You can adjust this value based on your dataset and available memory\n",
    "\n",
    "# Split your training data into mini-batches\n",
    "num_samples = len(train_set)\n",
    "num_batches = num_samples // batch_size\n",
    "\n",
    "W1 = np.random.randn(input_size, hidden_size)  # Weights for the hidden layer\n",
    "b1 = np.zeros((1, hidden_size))  # Biases for the hidden layer\n",
    "W2 = np.random.randn(hidden_size, latent_size)  # Weights for the output layer\n",
    "b2 = np.zeros((1, latent_size))\n",
    "W3 = np.random.randn(latent_size, hidden_size)  # Weights for the hidden layer\n",
    "b3 = np.zeros((1, hidden_size))  # Biases for the hidden layer\n",
    "W4 = np.random.randn(hidden_size, input_size)  # Weights for the output layer\n",
    "b4 = np.zeros((1, input_size))\n",
    "\n",
    "def forward(y):\n",
    "    z1 = np.dot(y, W1) + b1 # input_size -> hidden_size\n",
    "    a1 = sigmoid(z1)\n",
    "    z2 = np.dot(a1, W2) + b2 # hidden_size -> latent_size\n",
    "    a2 = relu(z2)\n",
    "    z3 = np.dot(a2, W3) + b3 # latent_size -> hidden_size\n",
    "    a3 = sigmoid(z3)  \n",
    "    z4 = a3.dot(W4) + b4 # hidden_size -> input_size\n",
    "    a4 = relu(z4)\n",
    "    return z1, a1, z2, a2, z3, a3, z4, a4\n",
    "\n",
    "for epoch in range(epochs):\n",
    "    # Shuffle your training data at the beginning of each epoch to randomize mini-batch order\n",
    "    np.random.shuffle(train_set)\n",
    "    \n",
    "    for i in range(num_batches):\n",
    "        # Extract a mini-batch\n",
    "        start = i * batch_size\n",
    "        end = (i + 1) * batch_size\n",
    "        mini_batch = train_set[start:end]\n",
    "        \n",
    "        # Initialize gradients for each batch\n",
    "        dW1_batch, db1_batch = 0, 0\n",
    "        dW2_batch, db2_batch = 0, 0\n",
    "        dW3_batch, db3_batch = 0, 0\n",
    "        dW4_batch, db4_batch = 0, 0\n",
    "        \n",
    "        # Process each sample in the mini-batch\n",
    "        for y in mini_batch:\n",
    "            # Forward propagation\n",
    "            z1, a1, z2, a2, z3, a3, z4, y_pred = forward(y)\n",
    "\n",
    "            dz4 = y_pred - y  # Assuming a4 is the output of your network\n",
    "            dW4 = a3.T.dot(dz4)  # Gradient of loss w.r.t. W4\n",
    "            db4 = np.sum(dz4, axis=0)  # Gradient of loss w.r.t. b4\n",
    "                \n",
    "            dz3 = dz4.dot(W4.T) * a3 * (1 - a3)  # Gradient of loss w.r.t. z3 using sigmoid derivative\n",
    "            dW3 = a2.T.dot(dz3)  # Gradient of loss w.r.t. W3\n",
    "            db3 = np.sum(dz3, axis=0)  # Gradient of loss w.r.t. b3\n",
    "            \n",
    "            dz2 = dz3.dot(W3.T) * (z2 > 0)  # Gradient of loss w.r.t. z2 using ReLU derivative\n",
    "            dW2 = a1.T.dot(dz2)  # Gradient of loss w.r.t. W2\n",
    "            db2 = np.sum(dz2, axis=0)  # Gradient of loss w.r.t. b2\n",
    "            \n",
    "            dz1 = dz2.dot(W2.T) * a1 * (1 - a1)  # Gradient of loss w.r.t. z1 using sigmoid derivative\n",
    "            dW1 = W1.dot(dz1.T)  # Gradient of loss w.r.t. W1\n",
    "            db1 = np.sum(dz1, axis=0)  # Gradient of loss w.r.t. b1\n",
    "\n",
    "            dW1_batch += dW1\n",
    "            dW2_batch += dW2\n",
    "            dW3_batch += dW3\n",
    "            dW4_batch += dW4\n",
    "\n",
    "        \n",
    "        W1 = W1 - (learning_rate / batch_size) * (dW1_batch / batch_size)\n",
    "        b1 = b1 - (learning_rate / batch_size) * (db1_batch / batch_size)\n",
    "\n",
    "        W2 = W2 - (learning_rate / batch_size) * (dW2_batch / batch_size)\n",
    "        b2 = b2 - (learning_rate / batch_size) * (db2_batch / batch_size)\n",
    "\n",
    "        W3 = W3 - (learning_rate / batch_size) * (dW3_batch / batch_size)\n",
    "        b3 = b3 - (learning_rate / batch_size) * (db3_batch / batch_size)\n",
    "        \n",
    "        W4 = W4 - (learning_rate / batch_size) * (dW4_batch / batch_size)\n",
    "        b4 = b4 - (learning_rate / batch_size) * (db4_batch / batch_size)\n",
    "        \n",
    "        \n",
    "    # Calculate and print the loss at the end of each epoch\n",
    "    total_loss = 0\n",
    "    for y in train_set:\n",
    "        _, _, _, _, _, _, _, y_pred = forward(y)\n",
    "        loss = np.mean(0.5 * np.power(y - y_pred, 2))\n",
    "        total_loss += loss\n",
    "    avg_loss = total_loss / num_samples\n",
    "    print(f\"Epoch {epoch}, Loss: {avg_loss}\")\n"
   ]
  },
  {
   "cell_type": "code",
   "execution_count": 45,
   "id": "421afd9e-22a1-45ff-a417-0fa6245ab70a",
   "metadata": {},
   "outputs": [
    {
     "data": {
      "image/png": "[encoded data removed]",
      "text/plain": [
       "<Figure size 640x480 with 1 Axes>"
      ]
     },
     "metadata": {},
     "output_type": "display_data"
    },
    {
     "data": {
      "image/png": "[encoded data removed]",
      "text/plain": [
       "<Figure size 640x480 with 1 Axes>"
      ]
     },
     "metadata": {},
     "output_type": "display_data"
    }
   ],
   "source": [
    "sample = test_set[2]\n",
    "preview(sample.reshape(28, 28))\n",
    "_, _, _, _, _, _, _, result = forward(sample)\n",
    "preview(result.reshape(28, 28))"
   ]
  },
  {
   "cell_type": "code",
   "execution_count": null,
   "id": "52696847-e6ff-422f-b646-8037bd8abd45",
   "metadata": {},
   "outputs": [],
   "source": []
  }
 ],
 "metadata": {
  "kernelspec": {
   "display_name": "Python 3 (ipykernel)",
   "language": "python",
   "name": "python3"
  },
  "language_info": {
   "codemirror_mode": {
    "name": "ipython",
    "version": 3
   },
   "file_extension": ".py",
   "mimetype": "text/x-python",
   "name": "python",
   "nbconvert_exporter": "python",
   "pygments_lexer": "ipython3",
   "version": "3.9.7"
  }
 },
 "nbformat": 4,
 "nbformat_minor": 5
}
